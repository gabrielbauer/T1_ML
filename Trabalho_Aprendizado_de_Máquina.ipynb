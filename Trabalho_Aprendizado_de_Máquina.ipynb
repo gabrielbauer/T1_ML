{
  "nbformat": 4,
  "nbformat_minor": 0,
  "metadata": {
    "colab": {
      "name": "Trabalho Aprendizado de Máquina.ipynb",
      "provenance": [],
      "authorship_tag": "ABX9TyNzgUTtK+9ITe2CCXnMnmR3",
      "include_colab_link": true
    },
    "kernelspec": {
      "name": "python3",
      "display_name": "Python 3"
    },
    "language_info": {
      "name": "python"
    }
  },
  "cells": [
    {
      "cell_type": "markdown",
      "metadata": {
        "id": "view-in-github",
        "colab_type": "text"
      },
      "source": [
        "<a href=\"https://colab.research.google.com/github/gabrielbauer/T1_ML/blob/main/Trabalho_Aprendizado_de_M%C3%A1quina.ipynb\" target=\"_parent\"><img src=\"https://colab.research.google.com/assets/colab-badge.svg\" alt=\"Open In Colab\"/></a>"
      ]
    },
    {
      "cell_type": "code",
      "execution_count": null,
      "metadata": {
        "id": "YyFgNvf9OM0T"
      },
      "outputs": [],
      "source": []
    }
  ]
}