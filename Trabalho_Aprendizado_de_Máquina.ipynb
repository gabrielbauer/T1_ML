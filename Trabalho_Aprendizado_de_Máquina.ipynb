{
  "nbformat": 4,
  "nbformat_minor": 0,
  "metadata": {
    "colab": {
      "provenance": [],
      "collapsed_sections": [],
      "include_colab_link": true
    },
    "kernelspec": {
      "name": "python3",
      "display_name": "Python 3"
    },
    "language_info": {
      "name": "python"
    }
  },
  "cells": [
    {
      "cell_type": "markdown",
      "metadata": {
        "id": "view-in-github",
        "colab_type": "text"
      },
      "source": [
        "<a href=\"https://colab.research.google.com/github/gabrielbauer/T1_ML/blob/main/Trabalho_Aprendizado_de_M%C3%A1quina.ipynb\" target=\"_parent\"><img src=\"https://colab.research.google.com/assets/colab-badge.svg\" alt=\"Open In Colab\"/></a>"
      ]
    },
    {
      "cell_type": "markdown",
      "source": [
        "Componentes do grupo:\n",
        "- Gabriel Bauer de Oliveira - 00275614\n",
        "- Vitorugu da Silveira Fuerstenau Maciel - 007\n",
        "- Fábio Petkowicz - \n",
        "\n",
        "Base de dados: https://www.kaggle.com/datasets/clmentbisaillon/fake-and-real-news-dataset?resource=download&select=True.csv\n",
        "\n",
        "##Inspiration\n",
        "Can you use this data set to make an algorithm able to determine if an article is fake news or not?"
      ],
      "metadata": {
        "id": "tIXVJqzVmSTG"
      }
    },
    {
      "cell_type": "code",
      "execution_count": null,
      "metadata": {
        "id": "YyFgNvf9OM0T",
        "colab": {
          "base_uri": "https://localhost:8080/"
        },
        "outputId": "f728a030-5546-4638-8e8e-33d2f63e44a6"
      },
      "outputs": [
        {
          "output_type": "stream",
          "name": "stdout",
          "text": [
            "Archive:  /content/archive.zip\n",
            "replace /content/true_and_false/Fake.csv? [y]es, [n]o, [A]ll, [N]one, [r]ename: N\n",
            "/content\n"
          ]
        }
      ],
      "source": [
        "!unzip \"/content/archive.zip\" -d \"/content/true_and_false\""
      ]
    },
    {
      "cell_type": "code",
      "source": [
        "import pandas as pd\n",
        "from IPython.display import display\n",
        "\n",
        "true_news_dataframe = pd.read_csv(\"true_and_false/True.csv\")\n",
        "fake_news_dataframe = pd.read_csv(\"true_and_false/Fake.csv\")\n",
        "\n",
        "list(fake_news_dataframe.columns)"
      ],
      "metadata": {
        "colab": {
          "base_uri": "https://localhost:8080/"
        },
        "id": "v26_N9YN4GyM",
        "outputId": "927053fc-2479-4dcd-ffbd-3bbc24910a5f"
      },
      "execution_count": 45,
      "outputs": [
        {
          "output_type": "execute_result",
          "data": {
            "text/plain": [
              "['title', 'text', 'subject', 'date']"
            ]
          },
          "metadata": {},
          "execution_count": 45
        }
      ]
    },
    {
      "cell_type": "markdown",
      "source": [
        "Verificação de colunas com campos vazios"
      ],
      "metadata": {
        "id": "UcnswA3Z7l8w"
      }
    },
    {
      "cell_type": "code",
      "source": [
        "colunas = ['title', 'text', 'subject', 'date']\n",
        "dataframes = [true_news_dataframe, fake_news_dataframe]\n",
        "\n",
        "valido = 1\n",
        "for dataframe in dataframes:\n",
        "  for coluna in colunas:\n",
        "   if (dataframe.loc[dataframe[coluna] == None].empty == False):\n",
        "      valido = -1\n",
        "      break\n",
        "\n",
        "print(\"Dataframes sem colunas vazias.\") if valido == 1 else print(\"Dataframe com colunas vazias.\")\n"
      ],
      "metadata": {
        "colab": {
          "base_uri": "https://localhost:8080/"
        },
        "id": "j08OZfjR7kBi",
        "outputId": "20b9bc54-f907-4563-992e-506aef724eb5"
      },
      "execution_count": 67,
      "outputs": [
        {
          "output_type": "stream",
          "name": "stdout",
          "text": [
            "Dataframes sem colunas vazias.\n"
          ]
        }
      ]
    },
    {
      "cell_type": "markdown",
      "source": [
        "Realizar uma implementação própria da estratégia de k-fold cross validation, que seja genérica o suficiente para permitir o uso de diferentes valores de k (número de folds). A estratégia deve ser aplicada de forma estratificada, isto é, mantendo-se a proporção original de exemplos por classe em todos os folds, independente do número de classes do problema. É aconselhável que os grupos estudem as funções prontas a serem utilizadas para treinamento dos modelos, a fim de implementarem sua função para validação cruzada de forma compatível com as mesmas (principalmente em relação a estruturas de dados)."
      ],
      "metadata": {
        "id": "6wuFORCFEJRW"
      }
    }
  ]
}